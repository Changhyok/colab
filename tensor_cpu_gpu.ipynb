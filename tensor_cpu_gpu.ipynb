{
  "nbformat": 4,
  "nbformat_minor": 0,
  "metadata": {
    "colab": {
      "name": "tensor_cpu_gpu.ipynb",
      "provenance": [],
      "collapsed_sections": [],
      "authorship_tag": "ABX9TyPWIqVe4Jt7ZQaXquh0yo/x",
      "include_colab_link": true
    },
    "kernelspec": {
      "name": "python3",
      "display_name": "Python 3"
    },
    "accelerator": "GPU"
  },
  "cells": [
    {
      "cell_type": "markdown",
      "metadata": {
        "id": "view-in-github",
        "colab_type": "text"
      },
      "source": [
        "<a href=\"https://colab.research.google.com/github/Changhyok/colab/blob/master/tensor_cpu_gpu.ipynb\" target=\"_parent\"><img src=\"https://colab.research.google.com/assets/colab-badge.svg\" alt=\"Open In Colab\"/></a>"
      ]
    },
    {
      "cell_type": "code",
      "metadata": {
        "id": "yehZoCCJqNZR",
        "colab_type": "code",
        "colab": {}
      },
      "source": [
        "import time\n",
        "import numpy as np\n",
        "import tensorflow as tf\n",
        "tf.debugging.set_log_device_placement(True)"
      ],
      "execution_count": 1,
      "outputs": []
    },
    {
      "cell_type": "markdown",
      "metadata": {
        "id": "mGnN8HgY-xqc",
        "colab_type": "text"
      },
      "source": [
        "# GPU 사용 가능 확인"
      ]
    },
    {
      "cell_type": "code",
      "metadata": {
        "id": "XEjbNmym-vEQ",
        "colab_type": "code",
        "colab": {
          "base_uri": "https://localhost:8080/",
          "height": 492
        },
        "outputId": "363b0f24-ab6d-4a6a-9fa4-86b4704fc5ce"
      },
      "source": [
        "from tensorflow.python.client import device_lib\n",
        "device_lib.list_local_devices()"
      ],
      "execution_count": 2,
      "outputs": [
        {
          "output_type": "execute_result",
          "data": {
            "text/plain": [
              "[name: \"/device:CPU:0\"\n",
              " device_type: \"CPU\"\n",
              " memory_limit: 268435456\n",
              " locality {\n",
              " }\n",
              " incarnation: 16325578412908757389, name: \"/device:XLA_CPU:0\"\n",
              " device_type: \"XLA_CPU\"\n",
              " memory_limit: 17179869184\n",
              " locality {\n",
              " }\n",
              " incarnation: 9784678386211047536\n",
              " physical_device_desc: \"device: XLA_CPU device\", name: \"/device:XLA_GPU:0\"\n",
              " device_type: \"XLA_GPU\"\n",
              " memory_limit: 17179869184\n",
              " locality {\n",
              " }\n",
              " incarnation: 5670591257411235452\n",
              " physical_device_desc: \"device: XLA_GPU device\", name: \"/device:GPU:0\"\n",
              " device_type: \"GPU\"\n",
              " memory_limit: 14640891840\n",
              " locality {\n",
              "   bus_id: 1\n",
              "   links {\n",
              "   }\n",
              " }\n",
              " incarnation: 5377677916434210244\n",
              " physical_device_desc: \"device: 0, name: Tesla T4, pci bus id: 0000:00:04.0, compute capability: 7.5\"]"
            ]
          },
          "metadata": {
            "tags": []
          },
          "execution_count": 2
        }
      ]
    },
    {
      "cell_type": "markdown",
      "metadata": {
        "id": "tLq_VghF6XR9",
        "colab_type": "text"
      },
      "source": [
        "# user function of the manual calculation "
      ]
    },
    {
      "cell_type": "code",
      "metadata": {
        "id": "vrb-rDiC6WtC",
        "colab_type": "code",
        "colab": {}
      },
      "source": [
        "def matmul(t1,t2):\n",
        "  t=np.zeros((t1.shape[0],t2.shape[1]))\n",
        "  for i in range(t1.shape[0]):\n",
        "    for j in range(t2.shape[1]):\n",
        "      for k in range(t1.shape[1]):\n",
        "        t[i][j]+=t1[i][k]*t2[k][j]\n",
        "  return t    "
      ],
      "execution_count": 3,
      "outputs": []
    },
    {
      "cell_type": "markdown",
      "metadata": {
        "id": "vgLm1zfRtaUd",
        "colab_type": "text"
      },
      "source": [
        "# user function 적용"
      ]
    },
    {
      "cell_type": "code",
      "metadata": {
        "id": "bPMPHIw2vSov",
        "colab_type": "code",
        "colab": {}
      },
      "source": [
        "x=500 #500\n",
        "y=x\n",
        "z=x"
      ],
      "execution_count": 5,
      "outputs": []
    },
    {
      "cell_type": "code",
      "metadata": {
        "id": "diLSM9lu5iok",
        "colab_type": "code",
        "colab": {
          "base_uri": "https://localhost:8080/",
          "height": 34
        },
        "outputId": "4790aa79-8868-4cad-835c-b95df71f637a"
      },
      "source": [
        "start_time=time.time()\n",
        "\n",
        "t1=np.random.randn(x,y)\n",
        "t2=np.random.randn(y,z)\n",
        "\n",
        "print('time:',time.time()-start_time)"
      ],
      "execution_count": 6,
      "outputs": [
        {
          "output_type": "stream",
          "text": [
            "time: 0.028481483459472656\n"
          ],
          "name": "stdout"
        }
      ]
    },
    {
      "cell_type": "code",
      "metadata": {
        "id": "1ytPpGC9Bfh9",
        "colab_type": "code",
        "colab": {
          "base_uri": "https://localhost:8080/",
          "height": 52
        },
        "outputId": "9097001a-4666-4b28-f495-1ae6e4ca878c"
      },
      "source": [
        "start_time=time.time()\n",
        "\n",
        "t=matmul(t1,t2)\n",
        "\n",
        "print(t.shape)\n",
        "print('time:',time.time()-start_time)"
      ],
      "execution_count": 7,
      "outputs": [
        {
          "output_type": "stream",
          "text": [
            "(500, 500)\n",
            "time: 138.1890459060669\n"
          ],
          "name": "stdout"
        }
      ]
    },
    {
      "cell_type": "markdown",
      "metadata": {
        "id": "tMGAus_JCl2Y",
        "colab_type": "text"
      },
      "source": [
        "# numpy 내장 함수 사용"
      ]
    },
    {
      "cell_type": "code",
      "metadata": {
        "id": "UJAMwtUEz0N8",
        "colab_type": "code",
        "colab": {}
      },
      "source": [
        "import time\n",
        "import numpy as np"
      ],
      "execution_count": 1,
      "outputs": []
    },
    {
      "cell_type": "code",
      "metadata": {
        "id": "UfbmdsCpGnU7",
        "colab_type": "code",
        "colab": {}
      },
      "source": [
        "x=22000 #22000\n",
        "y=x\n",
        "z=x"
      ],
      "execution_count": 2,
      "outputs": []
    },
    {
      "cell_type": "code",
      "metadata": {
        "id": "Wu8JLOMMGq2e",
        "colab_type": "code",
        "colab": {
          "base_uri": "https://localhost:8080/",
          "height": 34
        },
        "outputId": "14497065-9817-4c94-dda0-02091b991bb5"
      },
      "source": [
        "start_time=time.time()\n",
        "\n",
        "t1=np.random.randn(x,y)\n",
        "t2=np.random.randn(y,z)\n",
        "\n",
        "print('time:',time.time()-start_time)"
      ],
      "execution_count": 3,
      "outputs": [
        {
          "output_type": "stream",
          "text": [
            "time: 43.21240019798279\n"
          ],
          "name": "stdout"
        }
      ]
    },
    {
      "cell_type": "code",
      "metadata": {
        "id": "7LtEEDT8x98o",
        "colab_type": "code",
        "colab": {
          "base_uri": "https://localhost:8080/",
          "height": 52
        },
        "outputId": "028e284f-82a6-470a-a46e-fe8fc30bf67e"
      },
      "source": [
        "start_time=time.time()\n",
        "\n",
        "t=np.matmul(t1,t2)\n",
        "\n",
        "print(t.shape)\n",
        "print('time:',time.time()-start_time)"
      ],
      "execution_count": 4,
      "outputs": [
        {
          "output_type": "stream",
          "text": [
            "(22000, 22000)\n",
            "time: 560.0204277038574\n"
          ],
          "name": "stdout"
        }
      ]
    },
    {
      "cell_type": "code",
      "metadata": {
        "id": "oQuMKOIDWSs1",
        "colab_type": "code",
        "colab": {
          "base_uri": "https://localhost:8080/",
          "height": 52
        },
        "outputId": "3b17a4f7-cb98-44bc-9708-7dd7c4ab2576"
      },
      "source": [
        "start_time=time.time()\n",
        "\n",
        "t=t1@t2\n",
        "\n",
        "print(t.shape)\n",
        "print('time:',time.time()-start_time)"
      ],
      "execution_count": 4,
      "outputs": [
        {
          "output_type": "stream",
          "text": [
            "(22000, 22000)\n",
            "time: 561.6844384670258\n"
          ],
          "name": "stdout"
        }
      ]
    },
    {
      "cell_type": "markdown",
      "metadata": {
        "id": "ii8kVC0rx1rl",
        "colab_type": "text"
      },
      "source": [
        "# tensorflow 적용 (GPU)"
      ]
    },
    {
      "cell_type": "code",
      "metadata": {
        "id": "948q0pmryEbj",
        "colab_type": "code",
        "colab": {}
      },
      "source": [
        "import time\n",
        "import tensorflow as tf\n",
        "tf.debugging.set_log_device_placement(True)"
      ],
      "execution_count": 1,
      "outputs": []
    },
    {
      "cell_type": "code",
      "metadata": {
        "id": "1H4xzLzDyKU8",
        "colab_type": "code",
        "colab": {}
      },
      "source": [
        "x=22000 #22000\n",
        "y=x\n",
        "z=x"
      ],
      "execution_count": 2,
      "outputs": []
    },
    {
      "cell_type": "code",
      "metadata": {
        "id": "oAYg5kNy5xHo",
        "colab_type": "code",
        "colab": {
          "base_uri": "https://localhost:8080/",
          "height": 140
        },
        "outputId": "6218bc75-140c-446c-f713-c79e65cba7b7"
      },
      "source": [
        "start_time=time.time()\n",
        "\n",
        "t1=tf.random.normal(shape=[x,y])\n",
        "t2=tf.random.normal(shape=[y,z])\n",
        "\n",
        "print('time:',time.time()-start_time)"
      ],
      "execution_count": 3,
      "outputs": [
        {
          "output_type": "stream",
          "text": [
            "Executing op RandomStandardNormal in device /job:localhost/replica:0/task:0/device:GPU:0\n",
            "Executing op Mul in device /job:localhost/replica:0/task:0/device:GPU:0\n",
            "Executing op Add in device /job:localhost/replica:0/task:0/device:GPU:0\n",
            "Executing op RandomStandardNormal in device /job:localhost/replica:0/task:0/device:GPU:0\n",
            "Executing op Mul in device /job:localhost/replica:0/task:0/device:GPU:0\n",
            "Executing op Add in device /job:localhost/replica:0/task:0/device:GPU:0\n",
            "time: 5.630792617797852\n"
          ],
          "name": "stdout"
        }
      ]
    },
    {
      "cell_type": "code",
      "metadata": {
        "id": "Jl_L62wcrjJZ",
        "colab_type": "code",
        "colab": {
          "base_uri": "https://localhost:8080/",
          "height": 70
        },
        "outputId": "b09e5f79-e035-4db4-89a0-3af7b64948c5"
      },
      "source": [
        "start_time=time.time()\n",
        "\n",
        "t=tf.matmul(t1,t2)\n",
        "\n",
        "print(t.shape)\n",
        "print('time:',time.time()-start_time)"
      ],
      "execution_count": 4,
      "outputs": [
        {
          "output_type": "stream",
          "text": [
            "Executing op MatMul in device /job:localhost/replica:0/task:0/device:GPU:0\n",
            "(22000, 22000)\n",
            "time: 1.4653751850128174\n"
          ],
          "name": "stdout"
        }
      ]
    },
    {
      "cell_type": "markdown",
      "metadata": {
        "id": "pyEteezzC9l6",
        "colab_type": "text"
      },
      "source": [
        "# tensorflow 함수 적용 (CPU)"
      ]
    },
    {
      "cell_type": "code",
      "metadata": {
        "id": "Nlg8-rcKzNvR",
        "colab_type": "code",
        "colab": {}
      },
      "source": [
        "import time\n",
        "import tensorflow as tf\n",
        "tf.debugging.set_log_device_placement(True)"
      ],
      "execution_count": null,
      "outputs": []
    },
    {
      "cell_type": "code",
      "metadata": {
        "id": "LxsZ4wS0zQNL",
        "colab_type": "code",
        "colab": {}
      },
      "source": [
        "x=22000 #22000\n",
        "y=x\n",
        "z=x"
      ],
      "execution_count": null,
      "outputs": []
    },
    {
      "cell_type": "code",
      "metadata": {
        "id": "sZHdNhjm5JgD",
        "colab_type": "code",
        "colab": {}
      },
      "source": [
        "start_time=time.time()\n",
        "\n",
        "with tf.device('/CPU:0'):\n",
        "  t1=tf.random.normal(shape=[x,y])\n",
        "  t2=tf.random.normal(shape=[y,z])\n",
        "\n",
        "print('time:',time.time()-start_time)"
      ],
      "execution_count": null,
      "outputs": []
    },
    {
      "cell_type": "code",
      "metadata": {
        "id": "dfx4dfNeDG8X",
        "colab_type": "code",
        "colab": {}
      },
      "source": [
        "start_time=time.time()\n",
        "\n",
        "with tf.device('/CPU:0'):\n",
        "  t=tf.matmul(t1,t2)\n",
        "\n",
        "print(t.shape)\n",
        "print('time:',time.time()-start_time)"
      ],
      "execution_count": null,
      "outputs": []
    },
    {
      "cell_type": "code",
      "metadata": {
        "id": "KoX0NnZ9DX1N",
        "colab_type": "code",
        "colab": {}
      },
      "source": [
        ""
      ],
      "execution_count": null,
      "outputs": []
    }
  ]
}