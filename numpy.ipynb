{
  "nbformat": 4,
  "nbformat_minor": 0,
  "metadata": {
    "colab": {
      "name": "numpy.ipynb",
      "provenance": [],
      "collapsed_sections": [],
      "authorship_tag": "ABX9TyNixcBDaF9D9Fkd3kf0zP9U",
      "include_colab_link": true
    },
    "kernelspec": {
      "name": "python3",
      "display_name": "Python 3"
    }
  },
  "cells": [
    {
      "cell_type": "markdown",
      "metadata": {
        "id": "view-in-github",
        "colab_type": "text"
      },
      "source": [
        "<a href=\"https://colab.research.google.com/github/Changhyok/colab/blob/master/numpy.ipynb\" target=\"_parent\"><img src=\"https://colab.research.google.com/assets/colab-badge.svg\" alt=\"Open In Colab\"/></a>"
      ]
    },
    {
      "cell_type": "markdown",
      "metadata": {
        "id": "MB88BUxUWXG3",
        "colab_type": "text"
      },
      "source": [
        "#예제로 배우는 파이썬 프로그래밍\n",
        "\n",
        "reference: \n",
        "\n",
        "http://pythonstudy.xyz/python/article/402-numpy-%EC%82%AC%EC%9A%A9%ED%95%98%EA%B8%B0"
      ]
    },
    {
      "cell_type": "code",
      "metadata": {
        "id": "8nX85mYTVgGR",
        "colab_type": "code",
        "colab": {}
      },
      "source": [
        "import numpy as np"
      ],
      "execution_count": 1,
      "outputs": []
    },
    {
      "cell_type": "code",
      "metadata": {
        "id": "8UtDByPHWk8m",
        "colab_type": "code",
        "colab": {}
      },
      "source": [
        "x=[1,2,3,4]\n",
        "y=[[1,2,3],[4,5,6]]"
      ],
      "execution_count": 2,
      "outputs": []
    },
    {
      "cell_type": "code",
      "metadata": {
        "id": "cq4us9tHWq5o",
        "colab_type": "code",
        "colab": {}
      },
      "source": [
        "a=np.array(x)"
      ],
      "execution_count": 3,
      "outputs": []
    },
    {
      "cell_type": "code",
      "metadata": {
        "id": "Jk9Sw7UWW7WX",
        "colab_type": "code",
        "colab": {
          "base_uri": "https://localhost:8080/",
          "height": 70
        },
        "outputId": "5e03ce31-ecba-46c5-f1ef-56c1c29a3af9"
      },
      "source": [
        "print(type(a))\n",
        "print(a.shape,type(a.shape))\n",
        "print(a.ndim,type(a.ndim))"
      ],
      "execution_count": 4,
      "outputs": [
        {
          "output_type": "stream",
          "text": [
            "<class 'numpy.ndarray'>\n",
            "(4,) <class 'tuple'>\n",
            "1 <class 'int'>\n"
          ],
          "name": "stdout"
        }
      ]
    },
    {
      "cell_type": "code",
      "metadata": {
        "id": "ow8ZgJ7HW9i2",
        "colab_type": "code",
        "colab": {}
      },
      "source": [
        "b=np.array([[1,2,3],[4,5,6]])"
      ],
      "execution_count": 5,
      "outputs": []
    },
    {
      "cell_type": "code",
      "metadata": {
        "id": "jeEY-9J9W_VH",
        "colab_type": "code",
        "colab": {
          "base_uri": "https://localhost:8080/",
          "height": 70
        },
        "outputId": "dbbecacc-1fa2-42f2-9df2-24ff49c1e370"
      },
      "source": [
        "print(type(b))\n",
        "print(b.shape)\n",
        "print(b.ndim)"
      ],
      "execution_count": 6,
      "outputs": [
        {
          "output_type": "stream",
          "text": [
            "<class 'numpy.ndarray'>\n",
            "(2, 3)\n",
            "2\n"
          ],
          "name": "stdout"
        }
      ]
    },
    {
      "cell_type": "code",
      "metadata": {
        "id": "RCh_KSghX6ei",
        "colab_type": "code",
        "colab": {
          "base_uri": "https://localhost:8080/",
          "height": 70
        },
        "outputId": "9bfd1ded-c36d-4a59-b2a4-b7e9aedbd26e"
      },
      "source": [
        "print(b[0][0])\n",
        "print(b[0,0])\n",
        "print(y[0][0])\n",
        "#print(y[0,0])"
      ],
      "execution_count": 7,
      "outputs": [
        {
          "output_type": "stream",
          "text": [
            "1\n",
            "1\n",
            "1\n"
          ],
          "name": "stdout"
        }
      ]
    },
    {
      "cell_type": "code",
      "metadata": {
        "id": "i3tH9gDnYAe6",
        "colab_type": "code",
        "colab": {
          "base_uri": "https://localhost:8080/",
          "height": 52
        },
        "outputId": "0c415f6c-46d2-4819-ccd6-34dc7bab2cdf"
      },
      "source": [
        "a=np.zeros((2,2))\n",
        "print(a)"
      ],
      "execution_count": 8,
      "outputs": [
        {
          "output_type": "stream",
          "text": [
            "[[0. 0.]\n",
            " [0. 0.]]\n"
          ],
          "name": "stdout"
        }
      ]
    },
    {
      "cell_type": "code",
      "metadata": {
        "id": "Ip7G9nc5YV1N",
        "colab_type": "code",
        "colab": {
          "base_uri": "https://localhost:8080/",
          "height": 52
        },
        "outputId": "14725e11-183e-4334-96dc-b0695d18400a"
      },
      "source": [
        "a=np.ones((2,3))\n",
        "print(a)"
      ],
      "execution_count": 9,
      "outputs": [
        {
          "output_type": "stream",
          "text": [
            "[[1. 1. 1.]\n",
            " [1. 1. 1.]]\n"
          ],
          "name": "stdout"
        }
      ]
    },
    {
      "cell_type": "code",
      "metadata": {
        "id": "1m093vekZA6y",
        "colab_type": "code",
        "colab": {
          "base_uri": "https://localhost:8080/",
          "height": 52
        },
        "outputId": "9a2adebf-ef8f-4021-ecbe-3c86e9587503"
      },
      "source": [
        "a=np.full((2,3),5)\n",
        "print(a)"
      ],
      "execution_count": 10,
      "outputs": [
        {
          "output_type": "stream",
          "text": [
            "[[5 5 5]\n",
            " [5 5 5]]\n"
          ],
          "name": "stdout"
        }
      ]
    },
    {
      "cell_type": "code",
      "metadata": {
        "id": "0L8rhXC_ZSCA",
        "colab_type": "code",
        "colab": {
          "base_uri": "https://localhost:8080/",
          "height": 70
        },
        "outputId": "8b8daa1c-1c81-4ec2-b83a-7a23b7e3be9b"
      },
      "source": [
        "a=np.eye(3)\n",
        "print(a)"
      ],
      "execution_count": 11,
      "outputs": [
        {
          "output_type": "stream",
          "text": [
            "[[1. 0. 0.]\n",
            " [0. 1. 0.]\n",
            " [0. 0. 1.]]\n"
          ],
          "name": "stdout"
        }
      ]
    },
    {
      "cell_type": "code",
      "metadata": {
        "id": "v6emfN-TZXkD",
        "colab_type": "code",
        "colab": {
          "base_uri": "https://localhost:8080/",
          "height": 87
        },
        "outputId": "67a12e99-17e0-4e8f-d9d3-4558e2913439"
      },
      "source": [
        "a=np.array(range(20)).reshape((4,5))\n",
        "print(a)"
      ],
      "execution_count": 12,
      "outputs": [
        {
          "output_type": "stream",
          "text": [
            "[[ 0  1  2  3  4]\n",
            " [ 5  6  7  8  9]\n",
            " [10 11 12 13 14]\n",
            " [15 16 17 18 19]]\n"
          ],
          "name": "stdout"
        }
      ]
    },
    {
      "cell_type": "code",
      "metadata": {
        "id": "c6QXOzR3Z3nE",
        "colab_type": "code",
        "colab": {
          "base_uri": "https://localhost:8080/",
          "height": 70
        },
        "outputId": "01db7340-aec5-40d1-ccec-84b3d7b77b9e"
      },
      "source": [
        "a=np.array(range(1,10)).reshape((3,3))\n",
        "print(a)"
      ],
      "execution_count": 13,
      "outputs": [
        {
          "output_type": "stream",
          "text": [
            "[[1 2 3]\n",
            " [4 5 6]\n",
            " [7 8 9]]\n"
          ],
          "name": "stdout"
        }
      ]
    },
    {
      "cell_type": "code",
      "metadata": {
        "id": "7MWFAdSVaEM3",
        "colab_type": "code",
        "colab": {
          "base_uri": "https://localhost:8080/",
          "height": 52
        },
        "outputId": "df3dc5cc-3887-4390-f101-ded846f41f44"
      },
      "source": [
        "b=a[:2,:2]\n",
        "print(b)"
      ],
      "execution_count": 14,
      "outputs": [
        {
          "output_type": "stream",
          "text": [
            "[[1 2]\n",
            " [4 5]]\n"
          ],
          "name": "stdout"
        }
      ]
    },
    {
      "cell_type": "code",
      "metadata": {
        "id": "2z61d8iTajsw",
        "colab_type": "code",
        "colab": {
          "base_uri": "https://localhost:8080/",
          "height": 52
        },
        "outputId": "d76bd0b7-92ea-4bbc-f557-7da931b707bd"
      },
      "source": [
        "b=a[1:,1:]\n",
        "print(b)"
      ],
      "execution_count": 15,
      "outputs": [
        {
          "output_type": "stream",
          "text": [
            "[[5 6]\n",
            " [8 9]]\n"
          ],
          "name": "stdout"
        }
      ]
    },
    {
      "cell_type": "code",
      "metadata": {
        "id": "NAVloUXnaw4W",
        "colab_type": "code",
        "colab": {
          "base_uri": "https://localhost:8080/",
          "height": 70
        },
        "outputId": "dc06a6a7-04b1-48f8-f58e-6b346a11631c"
      },
      "source": [
        "a=np.array(range(1,13)).reshape((3,4))\n",
        "print(a)"
      ],
      "execution_count": 16,
      "outputs": [
        {
          "output_type": "stream",
          "text": [
            "[[ 1  2  3  4]\n",
            " [ 5  6  7  8]\n",
            " [ 9 10 11 12]]\n"
          ],
          "name": "stdout"
        }
      ]
    },
    {
      "cell_type": "code",
      "metadata": {
        "id": "eLaM0Vn1cP5T",
        "colab_type": "code",
        "colab": {
          "base_uri": "https://localhost:8080/",
          "height": 34
        },
        "outputId": "5fc1e939-81b8-41d8-8157-de40e09ef8c5"
      },
      "source": [
        "b=a[[0,2],[1,3]]\n",
        "print(b)"
      ],
      "execution_count": 17,
      "outputs": [
        {
          "output_type": "stream",
          "text": [
            "[ 2 12]\n"
          ],
          "name": "stdout"
        }
      ]
    },
    {
      "cell_type": "code",
      "metadata": {
        "id": "tj4zbiBscqWH",
        "colab_type": "code",
        "colab": {
          "base_uri": "https://localhost:8080/",
          "height": 70
        },
        "outputId": "50d80208-74c2-4652-bd1c-996061392243"
      },
      "source": [
        "a=np.array(range(1,10)).reshape((3,3))\n",
        "print(a)"
      ],
      "execution_count": 18,
      "outputs": [
        {
          "output_type": "stream",
          "text": [
            "[[1 2 3]\n",
            " [4 5 6]\n",
            " [7 8 9]]\n"
          ],
          "name": "stdout"
        }
      ]
    },
    {
      "cell_type": "code",
      "metadata": {
        "id": "kEZBvwPEdXv4",
        "colab_type": "code",
        "colab": {
          "base_uri": "https://localhost:8080/",
          "height": 70
        },
        "outputId": "ceb3adad-ccb8-4c0e-d0e6-303071d2aecc"
      },
      "source": [
        "b=np.array([[False,True,False],[True,False,True],[False,True,False]])\n",
        "print(b)"
      ],
      "execution_count": 19,
      "outputs": [
        {
          "output_type": "stream",
          "text": [
            "[[False  True False]\n",
            " [ True False  True]\n",
            " [False  True False]]\n"
          ],
          "name": "stdout"
        }
      ]
    },
    {
      "cell_type": "code",
      "metadata": {
        "id": "_J8pzRl1d_qw",
        "colab_type": "code",
        "colab": {
          "base_uri": "https://localhost:8080/",
          "height": 70
        },
        "outputId": "4dc797c6-1642-4e24-9219-047609805248"
      },
      "source": [
        "c=a[b]\n",
        "print(type(c))\n",
        "print(c.shape)\n",
        "print(c.ndim)"
      ],
      "execution_count": 20,
      "outputs": [
        {
          "output_type": "stream",
          "text": [
            "<class 'numpy.ndarray'>\n",
            "(4,)\n",
            "1\n"
          ],
          "name": "stdout"
        }
      ]
    },
    {
      "cell_type": "code",
      "metadata": {
        "id": "6TpGmJuLeJJL",
        "colab_type": "code",
        "colab": {
          "base_uri": "https://localhost:8080/",
          "height": 70
        },
        "outputId": "98ab3905-9a9c-4454-dc4d-3b201a55c791"
      },
      "source": [
        "b=a%2==0\n",
        "print(b)"
      ],
      "execution_count": 21,
      "outputs": [
        {
          "output_type": "stream",
          "text": [
            "[[False  True False]\n",
            " [ True False  True]\n",
            " [False  True False]]\n"
          ],
          "name": "stdout"
        }
      ]
    },
    {
      "cell_type": "code",
      "metadata": {
        "id": "OYTcI8ckem1e",
        "colab_type": "code",
        "colab": {
          "base_uri": "https://localhost:8080/",
          "height": 34
        },
        "outputId": "921787a6-e8a6-4b59-b706-097a0a3bc679"
      },
      "source": [
        "c=a[b]\n",
        "print(c)"
      ],
      "execution_count": 22,
      "outputs": [
        {
          "output_type": "stream",
          "text": [
            "[2 4 6 8]\n"
          ],
          "name": "stdout"
        }
      ]
    },
    {
      "cell_type": "code",
      "metadata": {
        "id": "_k-KhlKJe17N",
        "colab_type": "code",
        "colab": {
          "base_uri": "https://localhost:8080/",
          "height": 34
        },
        "outputId": "f1a77ddf-8412-4b2d-c632-950ca5ff6037"
      },
      "source": [
        "c=a[a%2==0]\n",
        "print(c)"
      ],
      "execution_count": 23,
      "outputs": [
        {
          "output_type": "stream",
          "text": [
            "[2 4 6 8]\n"
          ],
          "name": "stdout"
        }
      ]
    },
    {
      "cell_type": "code",
      "metadata": {
        "id": "aoxYjIR5fM3A",
        "colab_type": "code",
        "colab": {}
      },
      "source": [
        "a=np.array([1,2,3])\n",
        "b=np.array([4,5,6])"
      ],
      "execution_count": 24,
      "outputs": []
    },
    {
      "cell_type": "code",
      "metadata": {
        "id": "QyaSCIvefbv3",
        "colab_type": "code",
        "colab": {
          "base_uri": "https://localhost:8080/",
          "height": 52
        },
        "outputId": "edbb44a8-1586-4535-c45b-b44bb0a54e75"
      },
      "source": [
        "c=a+b\n",
        "print(c)\n",
        "c=np.add(a,b)\n",
        "print(c)"
      ],
      "execution_count": 25,
      "outputs": [
        {
          "output_type": "stream",
          "text": [
            "[5 7 9]\n",
            "[5 7 9]\n"
          ],
          "name": "stdout"
        }
      ]
    },
    {
      "cell_type": "code",
      "metadata": {
        "id": "UUAcMRwqfex_",
        "colab_type": "code",
        "colab": {
          "base_uri": "https://localhost:8080/",
          "height": 52
        },
        "outputId": "3ce61038-d712-4899-d38e-c1ae83ebdc3b"
      },
      "source": [
        "c=a-b\n",
        "print(c)\n",
        "c=np.subtract(a,b)\n",
        "print(c)"
      ],
      "execution_count": 26,
      "outputs": [
        {
          "output_type": "stream",
          "text": [
            "[-3 -3 -3]\n",
            "[-3 -3 -3]\n"
          ],
          "name": "stdout"
        }
      ]
    },
    {
      "cell_type": "code",
      "metadata": {
        "id": "e-xvkWEQflCC",
        "colab_type": "code",
        "colab": {
          "base_uri": "https://localhost:8080/",
          "height": 52
        },
        "outputId": "6c0bc443-05fe-487e-b622-b605fd8af2f5"
      },
      "source": [
        "c=a*b\n",
        "print(c)\n",
        "c=np.multiply(a,b)\n",
        "print(c)"
      ],
      "execution_count": 27,
      "outputs": [
        {
          "output_type": "stream",
          "text": [
            "[ 4 10 18]\n",
            "[ 4 10 18]\n"
          ],
          "name": "stdout"
        }
      ]
    },
    {
      "cell_type": "code",
      "metadata": {
        "id": "sBRLCgSQfpxD",
        "colab_type": "code",
        "colab": {
          "base_uri": "https://localhost:8080/",
          "height": 52
        },
        "outputId": "79a163d7-c6b9-4470-ca17-1aa8598b0279"
      },
      "source": [
        "c=a/b\n",
        "print(c)\n",
        "c=np.divide(a,b)\n",
        "print(c)"
      ],
      "execution_count": 28,
      "outputs": [
        {
          "output_type": "stream",
          "text": [
            "[0.25 0.4  0.5 ]\n",
            "[0.25 0.4  0.5 ]\n"
          ],
          "name": "stdout"
        }
      ]
    },
    {
      "cell_type": "code",
      "metadata": {
        "id": "Ix6dhUlQgZfE",
        "colab_type": "code",
        "colab": {}
      },
      "source": [
        "a=np.array(range(1,5)).reshape((2,2))\n",
        "b=np.array(range(5,9)).reshape((2,2))"
      ],
      "execution_count": 29,
      "outputs": []
    },
    {
      "cell_type": "code",
      "metadata": {
        "id": "zJSY_Ej7hA4Y",
        "colab_type": "code",
        "colab": {
          "base_uri": "https://localhost:8080/",
          "height": 122
        },
        "outputId": "8caebfbf-9304-4ddb-9df4-d2863d370e5f"
      },
      "source": [
        "print(a)\n",
        "print(b)\n",
        "c=np.dot(a,b)\n",
        "print(c)"
      ],
      "execution_count": 30,
      "outputs": [
        {
          "output_type": "stream",
          "text": [
            "[[1 2]\n",
            " [3 4]]\n",
            "[[5 6]\n",
            " [7 8]]\n",
            "[[19 22]\n",
            " [43 50]]\n"
          ],
          "name": "stdout"
        }
      ]
    },
    {
      "cell_type": "code",
      "metadata": {
        "id": "y2QfJut1hGRH",
        "colab_type": "code",
        "colab": {
          "base_uri": "https://localhost:8080/",
          "height": 34
        },
        "outputId": "fc51c1aa-e098-49fb-af1e-8dbd4bdbb8a6"
      },
      "source": [
        "1*5+2*7"
      ],
      "execution_count": 31,
      "outputs": [
        {
          "output_type": "execute_result",
          "data": {
            "text/plain": [
              "19"
            ]
          },
          "metadata": {
            "tags": []
          },
          "execution_count": 31
        }
      ]
    },
    {
      "cell_type": "code",
      "metadata": {
        "id": "-xz0HDN-hoOZ",
        "colab_type": "code",
        "colab": {
          "base_uri": "https://localhost:8080/",
          "height": 70
        },
        "outputId": "5e3114bc-ad6e-415c-b83e-fc85c17b1f8d"
      },
      "source": [
        "x=np.sum(a)\n",
        "print(x)\n",
        "x=np.sum(a,axis=0)\n",
        "print(x)\n",
        "x=np.sum(a,axis=1)\n",
        "print(x)"
      ],
      "execution_count": 32,
      "outputs": [
        {
          "output_type": "stream",
          "text": [
            "10\n",
            "[4 6]\n",
            "[3 7]\n"
          ],
          "name": "stdout"
        }
      ]
    },
    {
      "cell_type": "code",
      "metadata": {
        "id": "5cC4faBBh7G1",
        "colab_type": "code",
        "colab": {
          "base_uri": "https://localhost:8080/",
          "height": 70
        },
        "outputId": "0cc41443-43ac-4521-85bd-662d4fe4d7f1"
      },
      "source": [
        "x=np.prod(a)\n",
        "print(x)\n",
        "x=np.prod(a,axis=0)\n",
        "print(x)\n",
        "x=np.prod(a,axis=1)\n",
        "print(x)"
      ],
      "execution_count": 33,
      "outputs": [
        {
          "output_type": "stream",
          "text": [
            "24\n",
            "[3 8]\n",
            "[ 2 12]\n"
          ],
          "name": "stdout"
        }
      ]
    },
    {
      "cell_type": "markdown",
      "metadata": {
        "id": "MLRsi-i9kjQu",
        "colab_type": "text"
      },
      "source": [
        "#넘파이 기초 정리\n",
        "\n",
        "reference:\n",
        "\n",
        "https://doorbw.tistory.com/171"
      ]
    },
    {
      "cell_type": "code",
      "metadata": {
        "id": "sXHOSwb5ieVW",
        "colab_type": "code",
        "colab": {
          "base_uri": "https://localhost:8080/",
          "height": 70
        },
        "outputId": "84f7dd5b-c619-4e6a-d35f-24f5ede53348"
      },
      "source": [
        "data1=[1,2,3,4,5]\n",
        "print(data1)\n",
        "print(type(data1))\n",
        "print(len(data1))"
      ],
      "execution_count": 39,
      "outputs": [
        {
          "output_type": "stream",
          "text": [
            "[1, 2, 3, 4, 5]\n",
            "<class 'list'>\n",
            "5\n"
          ],
          "name": "stdout"
        }
      ]
    },
    {
      "cell_type": "code",
      "metadata": {
        "id": "aDnQuo8WlBwD",
        "colab_type": "code",
        "colab": {
          "base_uri": "https://localhost:8080/",
          "height": 34
        },
        "outputId": "19185e0c-f836-4691-9719-9753569eb02b"
      },
      "source": [
        "data2=[1,2,3,3.5,4]\n",
        "print(data2)"
      ],
      "execution_count": 35,
      "outputs": [
        {
          "output_type": "stream",
          "text": [
            "[1, 2, 3, 3.5, 4]\n"
          ],
          "name": "stdout"
        }
      ]
    },
    {
      "cell_type": "code",
      "metadata": {
        "id": "sEOuYMSzlK5h",
        "colab_type": "code",
        "colab": {
          "base_uri": "https://localhost:8080/",
          "height": 105
        },
        "outputId": "e8350dfe-2e27-4ded-8729-fd008c70ed90"
      },
      "source": [
        "arr1=np.array(data1)\n",
        "print(arr1)\n",
        "print(type(arr1))\n",
        "print(arr1.shape)\n",
        "print(arr1.ndim)\n",
        "print(arr1.dtype)"
      ],
      "execution_count": 41,
      "outputs": [
        {
          "output_type": "stream",
          "text": [
            "[1 2 3 4 5]\n",
            "<class 'numpy.ndarray'>\n",
            "(5,)\n",
            "1\n",
            "int64\n"
          ],
          "name": "stdout"
        }
      ]
    },
    {
      "cell_type": "code",
      "metadata": {
        "id": "gfOq6b6BlUeC",
        "colab_type": "code",
        "colab": {
          "base_uri": "https://localhost:8080/",
          "height": 105
        },
        "outputId": "c9b1f6f8-440e-4e84-8adf-7c39f46aacb8"
      },
      "source": [
        "arr2=np.array(data2)\n",
        "print(arr2)\n",
        "print(type(arr2))\n",
        "print(arr2.shape)\n",
        "print(arr2.ndim)\n",
        "print(arr2.dtype)"
      ],
      "execution_count": 43,
      "outputs": [
        {
          "output_type": "stream",
          "text": [
            "[1.  2.  3.  3.5 4. ]\n",
            "<class 'numpy.ndarray'>\n",
            "(5,)\n",
            "1\n",
            "float64\n"
          ],
          "name": "stdout"
        }
      ]
    },
    {
      "cell_type": "code",
      "metadata": {
        "id": "Evsut1YwmHFS",
        "colab_type": "code",
        "colab": {
          "base_uri": "https://localhost:8080/",
          "height": 105
        },
        "outputId": "7f98b28a-12b1-4e77-bde0-d6af7d5bc1a8"
      },
      "source": [
        "arr4=np.array(range(1,13)).reshape((4,3))\n",
        "print(arr4)\n",
        "print(arr4.shape)"
      ],
      "execution_count": 46,
      "outputs": [
        {
          "output_type": "stream",
          "text": [
            "[[ 1  2  3]\n",
            " [ 4  5  6]\n",
            " [ 7  8  9]\n",
            " [10 11 12]]\n",
            "(4, 3)\n"
          ],
          "name": "stdout"
        }
      ]
    },
    {
      "cell_type": "code",
      "metadata": {
        "id": "A609Q9_9mu-v",
        "colab_type": "code",
        "colab": {
          "base_uri": "https://localhost:8080/",
          "height": 34
        },
        "outputId": "56409e7f-38a8-41b1-e998-2ed484d6a0c4"
      },
      "source": [
        "np.zeros(10)"
      ],
      "execution_count": 47,
      "outputs": [
        {
          "output_type": "execute_result",
          "data": {
            "text/plain": [
              "array([0., 0., 0., 0., 0., 0., 0., 0., 0., 0.])"
            ]
          },
          "metadata": {
            "tags": []
          },
          "execution_count": 47
        }
      ]
    },
    {
      "cell_type": "code",
      "metadata": {
        "id": "D61jrQLVnRIb",
        "colab_type": "code",
        "colab": {
          "base_uri": "https://localhost:8080/",
          "height": 70
        },
        "outputId": "e6271d7d-a57b-4f5b-f96a-11dcfaa3330a"
      },
      "source": [
        "np.zeros((3,5))"
      ],
      "execution_count": 48,
      "outputs": [
        {
          "output_type": "execute_result",
          "data": {
            "text/plain": [
              "array([[0., 0., 0., 0., 0.],\n",
              "       [0., 0., 0., 0., 0.],\n",
              "       [0., 0., 0., 0., 0.]])"
            ]
          },
          "metadata": {
            "tags": []
          },
          "execution_count": 48
        }
      ]
    },
    {
      "cell_type": "code",
      "metadata": {
        "id": "RBAnicBGnU4d",
        "colab_type": "code",
        "colab": {
          "base_uri": "https://localhost:8080/",
          "height": 34
        },
        "outputId": "3e6c1327-49f4-4d89-f522-71a792574636"
      },
      "source": [
        "np.ones(9)"
      ],
      "execution_count": 49,
      "outputs": [
        {
          "output_type": "execute_result",
          "data": {
            "text/plain": [
              "array([1., 1., 1., 1., 1., 1., 1., 1., 1.])"
            ]
          },
          "metadata": {
            "tags": []
          },
          "execution_count": 49
        }
      ]
    },
    {
      "cell_type": "code",
      "metadata": {
        "id": "Z3qcxB54nXq9",
        "colab_type": "code",
        "colab": {
          "base_uri": "https://localhost:8080/",
          "height": 52
        },
        "outputId": "cb322334-0b2a-4de8-d753-d42bfb4e3e49"
      },
      "source": [
        "np.ones((2,10))"
      ],
      "execution_count": 50,
      "outputs": [
        {
          "output_type": "execute_result",
          "data": {
            "text/plain": [
              "array([[1., 1., 1., 1., 1., 1., 1., 1., 1., 1.],\n",
              "       [1., 1., 1., 1., 1., 1., 1., 1., 1., 1.]])"
            ]
          },
          "metadata": {
            "tags": []
          },
          "execution_count": 50
        }
      ]
    },
    {
      "cell_type": "code",
      "metadata": {
        "id": "ttfSLxSEna3r",
        "colab_type": "code",
        "colab": {
          "base_uri": "https://localhost:8080/",
          "height": 34
        },
        "outputId": "44fde86d-bf2c-4aa1-c13a-cc0eace072c1"
      },
      "source": [
        "np.arange(10)"
      ],
      "execution_count": 51,
      "outputs": [
        {
          "output_type": "execute_result",
          "data": {
            "text/plain": [
              "array([0, 1, 2, 3, 4, 5, 6, 7, 8, 9])"
            ]
          },
          "metadata": {
            "tags": []
          },
          "execution_count": 51
        }
      ]
    },
    {
      "cell_type": "code",
      "metadata": {
        "id": "fMmvnVSBneV5",
        "colab_type": "code",
        "colab": {
          "base_uri": "https://localhost:8080/",
          "height": 34
        },
        "outputId": "b63f46d1-e97d-4543-baed-6ae8b8014736"
      },
      "source": [
        "a=np.arange(3,10)\n",
        "print(type(a),a)"
      ],
      "execution_count": 54,
      "outputs": [
        {
          "output_type": "stream",
          "text": [
            "<class 'numpy.ndarray'> [3 4 5 6 7 8 9]\n"
          ],
          "name": "stdout"
        }
      ]
    },
    {
      "cell_type": "code",
      "metadata": {
        "id": "582Ge2Lznh96",
        "colab_type": "code",
        "colab": {
          "base_uri": "https://localhost:8080/",
          "height": 34
        },
        "outputId": "477810fd-3246-4e96-b7ab-47282fc5c7ab"
      },
      "source": [
        "a=range(3,10)\n",
        "print(type(a),a)"
      ],
      "execution_count": 55,
      "outputs": [
        {
          "output_type": "stream",
          "text": [
            "<class 'range'> range(3, 10)\n"
          ],
          "name": "stdout"
        }
      ]
    },
    {
      "cell_type": "code",
      "metadata": {
        "id": "tvHPfNzrn2ht",
        "colab_type": "code",
        "colab": {
          "base_uri": "https://localhost:8080/",
          "height": 122
        },
        "outputId": "b4677597-53b0-47fb-9ed0-2f2edd367a53"
      },
      "source": [
        "a=np.arange(1,7).reshape(2,3)\n",
        "print(type(a))\n",
        "print(a)\n",
        "print(a.shape)\n",
        "print(a.ndim)\n",
        "print(a.dtype)"
      ],
      "execution_count": 61,
      "outputs": [
        {
          "output_type": "stream",
          "text": [
            "<class 'numpy.ndarray'>\n",
            "[[1 2 3]\n",
            " [4 5 6]]\n",
            "(2, 3)\n",
            "2\n",
            "int64\n"
          ],
          "name": "stdout"
        }
      ]
    },
    {
      "cell_type": "code",
      "metadata": {
        "id": "9wvPWu5eoEoy",
        "colab_type": "code",
        "colab": {
          "base_uri": "https://localhost:8080/",
          "height": 122
        },
        "outputId": "657116ae-baa7-445f-d4e2-d0a2af4710c3"
      },
      "source": [
        "b=np.arange(10,16).reshape(2,3)\n",
        "print(type(b))\n",
        "print(b)\n",
        "print(b.shape)\n",
        "print(b.ndim)\n",
        "print(b.dtype)"
      ],
      "execution_count": 63,
      "outputs": [
        {
          "output_type": "stream",
          "text": [
            "<class 'numpy.ndarray'>\n",
            "[[10 11 12]\n",
            " [13 14 15]]\n",
            "(2, 3)\n",
            "2\n",
            "int64\n"
          ],
          "name": "stdout"
        }
      ]
    },
    {
      "cell_type": "code",
      "metadata": {
        "id": "PMUlr7OiokIN",
        "colab_type": "code",
        "colab": {
          "base_uri": "https://localhost:8080/",
          "height": 52
        },
        "outputId": "74e82daa-4423-4869-a09a-b82a6089aa51"
      },
      "source": [
        "a+b"
      ],
      "execution_count": 64,
      "outputs": [
        {
          "output_type": "execute_result",
          "data": {
            "text/plain": [
              "array([[11, 13, 15],\n",
              "       [17, 19, 21]])"
            ]
          },
          "metadata": {
            "tags": []
          },
          "execution_count": 64
        }
      ]
    },
    {
      "cell_type": "code",
      "metadata": {
        "id": "C-5GS8Oto1FB",
        "colab_type": "code",
        "colab": {
          "base_uri": "https://localhost:8080/",
          "height": 52
        },
        "outputId": "01880d72-092b-40ba-f6ff-05497854f3d4"
      },
      "source": [
        "a-b"
      ],
      "execution_count": 65,
      "outputs": [
        {
          "output_type": "execute_result",
          "data": {
            "text/plain": [
              "array([[-9, -9, -9],\n",
              "       [-9, -9, -9]])"
            ]
          },
          "metadata": {
            "tags": []
          },
          "execution_count": 65
        }
      ]
    },
    {
      "cell_type": "code",
      "metadata": {
        "id": "iUZ3_tI7o2lw",
        "colab_type": "code",
        "colab": {
          "base_uri": "https://localhost:8080/",
          "height": 52
        },
        "outputId": "dbdb86b9-551a-495d-cc9b-a5a2feeac203"
      },
      "source": [
        "a*b"
      ],
      "execution_count": 66,
      "outputs": [
        {
          "output_type": "execute_result",
          "data": {
            "text/plain": [
              "array([[10, 22, 36],\n",
              "       [52, 70, 90]])"
            ]
          },
          "metadata": {
            "tags": []
          },
          "execution_count": 66
        }
      ]
    },
    {
      "cell_type": "code",
      "metadata": {
        "id": "nbAgYHUDo3yW",
        "colab_type": "code",
        "colab": {
          "base_uri": "https://localhost:8080/",
          "height": 52
        },
        "outputId": "d400f5e0-9350-47b3-888c-c0265f23944a"
      },
      "source": [
        "a/b"
      ],
      "execution_count": 67,
      "outputs": [
        {
          "output_type": "execute_result",
          "data": {
            "text/plain": [
              "array([[0.1       , 0.18181818, 0.25      ],\n",
              "       [0.30769231, 0.35714286, 0.4       ]])"
            ]
          },
          "metadata": {
            "tags": []
          },
          "execution_count": 67
        }
      ]
    },
    {
      "cell_type": "code",
      "metadata": {
        "id": "iZJr83qWo7GO",
        "colab_type": "code",
        "colab": {
          "base_uri": "https://localhost:8080/",
          "height": 52
        },
        "outputId": "9c8773ad-7520-4741-f3ba-8f8d842a48d0"
      },
      "source": [
        "c=np.array([10,11,12])\n",
        "print(c)\n",
        "print(c.shape)"
      ],
      "execution_count": 69,
      "outputs": [
        {
          "output_type": "stream",
          "text": [
            "[10 11 12]\n",
            "(3,)\n"
          ],
          "name": "stdout"
        }
      ]
    },
    {
      "cell_type": "code",
      "metadata": {
        "id": "RhZQbqCfpGX1",
        "colab_type": "code",
        "colab": {
          "base_uri": "https://localhost:8080/",
          "height": 52
        },
        "outputId": "4f81a986-f6e6-4c17-c98b-9972cddc663c"
      },
      "source": [
        "a+c"
      ],
      "execution_count": 70,
      "outputs": [
        {
          "output_type": "execute_result",
          "data": {
            "text/plain": [
              "array([[11, 13, 15],\n",
              "       [14, 16, 18]])"
            ]
          },
          "metadata": {
            "tags": []
          },
          "execution_count": 70
        }
      ]
    },
    {
      "cell_type": "code",
      "metadata": {
        "id": "igSffwehpMYu",
        "colab_type": "code",
        "colab": {
          "base_uri": "https://localhost:8080/",
          "height": 52
        },
        "outputId": "f0e36b24-4d5c-4acb-e4ad-21fea70c819b"
      },
      "source": [
        "a*c"
      ],
      "execution_count": 71,
      "outputs": [
        {
          "output_type": "execute_result",
          "data": {
            "text/plain": [
              "array([[10, 22, 36],\n",
              "       [40, 55, 72]])"
            ]
          },
          "metadata": {
            "tags": []
          },
          "execution_count": 71
        }
      ]
    },
    {
      "cell_type": "code",
      "metadata": {
        "id": "dCPyr7RkpPh_",
        "colab_type": "code",
        "colab": {
          "base_uri": "https://localhost:8080/",
          "height": 52
        },
        "outputId": "30ca59dd-6590-4b76-c6d6-266fd7090f36"
      },
      "source": [
        "a**2"
      ],
      "execution_count": 72,
      "outputs": [
        {
          "output_type": "execute_result",
          "data": {
            "text/plain": [
              "array([[ 1,  4,  9],\n",
              "       [16, 25, 36]])"
            ]
          },
          "metadata": {
            "tags": []
          },
          "execution_count": 72
        }
      ]
    },
    {
      "cell_type": "code",
      "metadata": {
        "id": "ERscJhI4pTEm",
        "colab_type": "code",
        "colab": {
          "base_uri": "https://localhost:8080/",
          "height": 52
        },
        "outputId": "cf4d3a71-612c-470b-ed58-628e35a28e05"
      },
      "source": [
        "a=np.arange(10)\n",
        "print(a)\n",
        "print(a.shape)"
      ],
      "execution_count": 74,
      "outputs": [
        {
          "output_type": "stream",
          "text": [
            "[0 1 2 3 4 5 6 7 8 9]\n",
            "(10,)\n"
          ],
          "name": "stdout"
        }
      ]
    },
    {
      "cell_type": "code",
      "metadata": {
        "id": "ReS8GCqwphbb",
        "colab_type": "code",
        "colab": {
          "base_uri": "https://localhost:8080/",
          "height": 34
        },
        "outputId": "71de264c-0375-4475-9a47-f2a37aff309a"
      },
      "source": [
        "a[0]"
      ],
      "execution_count": 75,
      "outputs": [
        {
          "output_type": "execute_result",
          "data": {
            "text/plain": [
              "0"
            ]
          },
          "metadata": {
            "tags": []
          },
          "execution_count": 75
        }
      ]
    },
    {
      "cell_type": "code",
      "metadata": {
        "id": "xBSLGXb_puJb",
        "colab_type": "code",
        "colab": {
          "base_uri": "https://localhost:8080/",
          "height": 34
        },
        "outputId": "56ad7cb0-6d5d-473a-d887-fb46868b6cf4"
      },
      "source": [
        "a[3]"
      ],
      "execution_count": 76,
      "outputs": [
        {
          "output_type": "execute_result",
          "data": {
            "text/plain": [
              "3"
            ]
          },
          "metadata": {
            "tags": []
          },
          "execution_count": 76
        }
      ]
    },
    {
      "cell_type": "code",
      "metadata": {
        "id": "M7uWcYe6pvb7",
        "colab_type": "code",
        "colab": {
          "base_uri": "https://localhost:8080/",
          "height": 34
        },
        "outputId": "0a66f463-1fef-41b0-fe0a-2ee88aad8e11"
      },
      "source": [
        "a[3:9]"
      ],
      "execution_count": 77,
      "outputs": [
        {
          "output_type": "execute_result",
          "data": {
            "text/plain": [
              "array([3, 4, 5, 6, 7, 8])"
            ]
          },
          "metadata": {
            "tags": []
          },
          "execution_count": 77
        }
      ]
    },
    {
      "cell_type": "code",
      "metadata": {
        "id": "IAG8Jhw6pycC",
        "colab_type": "code",
        "colab": {
          "base_uri": "https://localhost:8080/",
          "height": 34
        },
        "outputId": "60ff4af1-43c6-4762-b92a-cc2081a73ed5"
      },
      "source": [
        "a[:]"
      ],
      "execution_count": 78,
      "outputs": [
        {
          "output_type": "execute_result",
          "data": {
            "text/plain": [
              "array([0, 1, 2, 3, 4, 5, 6, 7, 8, 9])"
            ]
          },
          "metadata": {
            "tags": []
          },
          "execution_count": 78
        }
      ]
    },
    {
      "cell_type": "code",
      "metadata": {
        "id": "0dQGXJb_p0Yq",
        "colab_type": "code",
        "colab": {
          "base_uri": "https://localhost:8080/",
          "height": 87
        },
        "outputId": "8c9d272e-853e-499b-d124-1f05b1bf7f21"
      },
      "source": [
        "b=np.arange(1,13).reshape(3,4)\n",
        "print(b)\n",
        "print(b.shape)"
      ],
      "execution_count": 80,
      "outputs": [
        {
          "output_type": "stream",
          "text": [
            "[[ 1  2  3  4]\n",
            " [ 5  6  7  8]\n",
            " [ 9 10 11 12]]\n",
            "(3, 4)\n"
          ],
          "name": "stdout"
        }
      ]
    },
    {
      "cell_type": "code",
      "metadata": {
        "id": "URt_83_oqA1k",
        "colab_type": "code",
        "colab": {
          "base_uri": "https://localhost:8080/",
          "height": 34
        },
        "outputId": "6e8c2475-0fdf-41ab-c9ec-06055685b65c"
      },
      "source": [
        "b[0,0]"
      ],
      "execution_count": 81,
      "outputs": [
        {
          "output_type": "execute_result",
          "data": {
            "text/plain": [
              "1"
            ]
          },
          "metadata": {
            "tags": []
          },
          "execution_count": 81
        }
      ]
    },
    {
      "cell_type": "code",
      "metadata": {
        "id": "7dJaJ1lYqKAX",
        "colab_type": "code",
        "colab": {
          "base_uri": "https://localhost:8080/",
          "height": 34
        },
        "outputId": "4c176c64-f236-4157-8a31-953266ed9fca"
      },
      "source": [
        "b[2,:]"
      ],
      "execution_count": 82,
      "outputs": [
        {
          "output_type": "execute_result",
          "data": {
            "text/plain": [
              "array([ 9, 10, 11, 12])"
            ]
          },
          "metadata": {
            "tags": []
          },
          "execution_count": 82
        }
      ]
    },
    {
      "cell_type": "code",
      "metadata": {
        "id": "qgdMbMvSqOD0",
        "colab_type": "code",
        "colab": {
          "base_uri": "https://localhost:8080/",
          "height": 34
        },
        "outputId": "e19c9b20-881a-46e0-e10d-dc4403596b49"
      },
      "source": [
        "b[2,3]"
      ],
      "execution_count": 83,
      "outputs": [
        {
          "output_type": "execute_result",
          "data": {
            "text/plain": [
              "12"
            ]
          },
          "metadata": {
            "tags": []
          },
          "execution_count": 83
        }
      ]
    },
    {
      "cell_type": "code",
      "metadata": {
        "id": "8XY4VsWNqP4c",
        "colab_type": "code",
        "colab": {
          "base_uri": "https://localhost:8080/",
          "height": 34
        },
        "outputId": "667c718d-e8d1-43b3-d35f-908be7634abc"
      },
      "source": [
        "b[:,3]"
      ],
      "execution_count": 84,
      "outputs": [
        {
          "output_type": "execute_result",
          "data": {
            "text/plain": [
              "array([ 4,  8, 12])"
            ]
          },
          "metadata": {
            "tags": []
          },
          "execution_count": 84
        }
      ]
    },
    {
      "cell_type": "code",
      "metadata": {
        "id": "gd_p-VzHqSrf",
        "colab_type": "code",
        "colab": {
          "base_uri": "https://localhost:8080/",
          "height": 34
        },
        "outputId": "773d8b64-1d62-4e96-9e46-8d4389276aeb"
      },
      "source": [
        "names=np.array(['Beomwoo','Beomwoo','Kim','Joan','Lee','Beomwoo','Park','Beomwoo'])\n",
        "print(names)"
      ],
      "execution_count": 85,
      "outputs": [
        {
          "output_type": "stream",
          "text": [
            "['Beomwoo' 'Beomwoo' 'Kim' 'Joan' 'Lee' 'Beomwoo' 'Park' 'Beomwoo']\n"
          ],
          "name": "stdout"
        }
      ]
    },
    {
      "cell_type": "code",
      "metadata": {
        "id": "khNbh5UiqvjO",
        "colab_type": "code",
        "colab": {
          "base_uri": "https://localhost:8080/",
          "height": 34
        },
        "outputId": "94a6e948-93cb-4c3d-efa9-8155e1c66400"
      },
      "source": [
        "print(names.shape)"
      ],
      "execution_count": 86,
      "outputs": [
        {
          "output_type": "stream",
          "text": [
            "(8,)\n"
          ],
          "name": "stdout"
        }
      ]
    },
    {
      "cell_type": "code",
      "metadata": {
        "id": "sr6kDR6fq1Fv",
        "colab_type": "code",
        "colab": {
          "base_uri": "https://localhost:8080/",
          "height": 175
        },
        "outputId": "6988b1fe-c8b0-4c5b-8697-659bf5ae9c4f"
      },
      "source": [
        "data=np.random.randn(8,4)\n",
        "print(data)\n",
        "print(data.shape)"
      ],
      "execution_count": 88,
      "outputs": [
        {
          "output_type": "stream",
          "text": [
            "[[-1.02200426 -0.37114979 -1.37740795 -0.25829838]\n",
            " [-0.1491284   1.79605617  1.57896411  0.38632261]\n",
            " [ 1.99891803  0.11586452 -0.59728267 -0.67690885]\n",
            " [ 0.15155536  0.47307666  0.21244445  0.07795256]\n",
            " [ 0.60125796  0.5820415  -0.06480611 -0.73421319]\n",
            " [ 0.56685984  1.06313195  0.62801907 -0.41134073]\n",
            " [-2.02037394 -1.65450499 -0.73665298 -3.18735523]\n",
            " [ 1.11203345  0.43817925 -0.21899706 -1.22496326]]\n",
            "(8, 4)\n"
          ],
          "name": "stdout"
        }
      ]
    },
    {
      "cell_type": "code",
      "metadata": {
        "id": "wSUn4UbJq9Yi",
        "colab_type": "code",
        "colab": {
          "base_uri": "https://localhost:8080/",
          "height": 34
        },
        "outputId": "8c0fb385-8437-42a1-b53e-2b9c6f1fffe2"
      },
      "source": [
        "names_Beomwoo_mask=names=='Beomwoo'\n",
        "print(names_Beomwoo_mask)"
      ],
      "execution_count": 89,
      "outputs": [
        {
          "output_type": "stream",
          "text": [
            "[ True  True False False False  True False  True]\n"
          ],
          "name": "stdout"
        }
      ]
    },
    {
      "cell_type": "code",
      "metadata": {
        "id": "Qb1o1ue0rWdV",
        "colab_type": "code",
        "colab": {
          "base_uri": "https://localhost:8080/",
          "height": 87
        },
        "outputId": "26b8ab0f-9bff-4d01-ce2f-47ce3ad1815f"
      },
      "source": [
        "data[names_Beomwoo_mask,:]"
      ],
      "execution_count": 90,
      "outputs": [
        {
          "output_type": "execute_result",
          "data": {
            "text/plain": [
              "array([[-1.02200426, -0.37114979, -1.37740795, -0.25829838],\n",
              "       [-0.1491284 ,  1.79605617,  1.57896411,  0.38632261],\n",
              "       [ 0.56685984,  1.06313195,  0.62801907, -0.41134073],\n",
              "       [ 1.11203345,  0.43817925, -0.21899706, -1.22496326]])"
            ]
          },
          "metadata": {
            "tags": []
          },
          "execution_count": 90
        }
      ]
    },
    {
      "cell_type": "code",
      "metadata": {
        "id": "V4FbQSbxrfAx",
        "colab_type": "code",
        "colab": {
          "base_uri": "https://localhost:8080/",
          "height": 34
        },
        "outputId": "f7f3409a-9331-4e83-e131-eeffaa4c9103"
      },
      "source": [
        "data[names=='Kim',:]"
      ],
      "execution_count": 91,
      "outputs": [
        {
          "output_type": "execute_result",
          "data": {
            "text/plain": [
              "array([[ 1.99891803,  0.11586452, -0.59728267, -0.67690885]])"
            ]
          },
          "metadata": {
            "tags": []
          },
          "execution_count": 91
        }
      ]
    },
    {
      "cell_type": "code",
      "metadata": {
        "id": "jpdfZUAlrmON",
        "colab_type": "code",
        "colab": {
          "base_uri": "https://localhost:8080/",
          "height": 52
        },
        "outputId": "5f9d5cc6-49ba-4bdc-b06a-838f6dac9a52"
      },
      "source": [
        "data[(names=='Kim')|(names=='Park'),:]"
      ],
      "execution_count": 92,
      "outputs": [
        {
          "output_type": "execute_result",
          "data": {
            "text/plain": [
              "array([[ 1.99891803,  0.11586452, -0.59728267, -0.67690885],\n",
              "       [-2.02037394, -1.65450499, -0.73665298, -3.18735523]])"
            ]
          },
          "metadata": {
            "tags": []
          },
          "execution_count": 92
        }
      ]
    },
    {
      "cell_type": "code",
      "metadata": {
        "id": "xuAASe-MsAFU",
        "colab_type": "code",
        "colab": {
          "base_uri": "https://localhost:8080/",
          "height": 34
        },
        "outputId": "66869807-5535-44ee-ee04-f72302b3683e"
      },
      "source": [
        "data[:,0]<0"
      ],
      "execution_count": 93,
      "outputs": [
        {
          "output_type": "execute_result",
          "data": {
            "text/plain": [
              "array([ True,  True, False, False, False, False,  True, False])"
            ]
          },
          "metadata": {
            "tags": []
          },
          "execution_count": 93
        }
      ]
    },
    {
      "cell_type": "code",
      "metadata": {
        "id": "KXi4BenbsKBM",
        "colab_type": "code",
        "colab": {
          "base_uri": "https://localhost:8080/",
          "height": 70
        },
        "outputId": "650f517c-e0a7-4dbf-bcfc-da307496d219"
      },
      "source": [
        "data[data[:,0]<0,:]"
      ],
      "execution_count": 94,
      "outputs": [
        {
          "output_type": "execute_result",
          "data": {
            "text/plain": [
              "array([[-1.02200426, -0.37114979, -1.37740795, -0.25829838],\n",
              "       [-0.1491284 ,  1.79605617,  1.57896411,  0.38632261],\n",
              "       [-2.02037394, -1.65450499, -0.73665298, -3.18735523]])"
            ]
          },
          "metadata": {
            "tags": []
          },
          "execution_count": 94
        }
      ]
    },
    {
      "cell_type": "code",
      "metadata": {
        "id": "_MfAFbeysYoE",
        "colab_type": "code",
        "colab": {
          "base_uri": "https://localhost:8080/",
          "height": 70
        },
        "outputId": "ac9b8070-073a-47de-dab6-b610f6548fb6"
      },
      "source": [
        "data[data[:,0]<0,2:4]"
      ],
      "execution_count": 95,
      "outputs": [
        {
          "output_type": "execute_result",
          "data": {
            "text/plain": [
              "array([[-1.37740795, -0.25829838],\n",
              "       [ 1.57896411,  0.38632261],\n",
              "       [-0.73665298, -3.18735523]])"
            ]
          },
          "metadata": {
            "tags": []
          },
          "execution_count": 95
        }
      ]
    },
    {
      "cell_type": "code",
      "metadata": {
        "id": "VSVtthd5slIu",
        "colab_type": "code",
        "colab": {
          "base_uri": "https://localhost:8080/",
          "height": 158
        },
        "outputId": "0640a1ec-8ed3-476e-88e1-a8bee016eb14"
      },
      "source": [
        "data[data[:,0]<0,2:4]=0\n",
        "print(data)"
      ],
      "execution_count": 96,
      "outputs": [
        {
          "output_type": "stream",
          "text": [
            "[[-1.02200426 -0.37114979  0.          0.        ]\n",
            " [-0.1491284   1.79605617  0.          0.        ]\n",
            " [ 1.99891803  0.11586452 -0.59728267 -0.67690885]\n",
            " [ 0.15155536  0.47307666  0.21244445  0.07795256]\n",
            " [ 0.60125796  0.5820415  -0.06480611 -0.73421319]\n",
            " [ 0.56685984  1.06313195  0.62801907 -0.41134073]\n",
            " [-2.02037394 -1.65450499  0.          0.        ]\n",
            " [ 1.11203345  0.43817925 -0.21899706 -1.22496326]]\n"
          ],
          "name": "stdout"
        }
      ]
    },
    {
      "cell_type": "code",
      "metadata": {
        "id": "C7uXlnobs0Gi",
        "colab_type": "code",
        "colab": {
          "base_uri": "https://localhost:8080/",
          "height": 105
        },
        "outputId": "ac9d7510-7d79-4818-85f0-9150398c73dd"
      },
      "source": [
        "a=np.random.randn(5,3)\n",
        "print(a)"
      ],
      "execution_count": 97,
      "outputs": [
        {
          "output_type": "stream",
          "text": [
            "[[-0.24391926 -0.48957129  0.66827835]\n",
            " [ 1.00818183 -0.17804492  0.23992597]\n",
            " [-0.03575236  0.18557971 -0.47251012]\n",
            " [-1.26561411  0.26836528 -0.86128749]\n",
            " [ 2.07410809  1.96675344  0.12048208]]\n"
          ],
          "name": "stdout"
        }
      ]
    },
    {
      "cell_type": "code",
      "metadata": {
        "id": "FAiFdL25s_dt",
        "colab_type": "code",
        "colab": {
          "base_uri": "https://localhost:8080/",
          "height": 105
        },
        "outputId": "69f14e88-7c92-4f3a-d5de-80610201ac10"
      },
      "source": [
        "np.abs(a)"
      ],
      "execution_count": 98,
      "outputs": [
        {
          "output_type": "execute_result",
          "data": {
            "text/plain": [
              "array([[0.24391926, 0.48957129, 0.66827835],\n",
              "       [1.00818183, 0.17804492, 0.23992597],\n",
              "       [0.03575236, 0.18557971, 0.47251012],\n",
              "       [1.26561411, 0.26836528, 0.86128749],\n",
              "       [2.07410809, 1.96675344, 0.12048208]])"
            ]
          },
          "metadata": {
            "tags": []
          },
          "execution_count": 98
        }
      ]
    },
    {
      "cell_type": "code",
      "metadata": {
        "id": "YSFYxfc6tDi4",
        "colab_type": "code",
        "colab": {
          "base_uri": "https://localhost:8080/",
          "height": 160
        },
        "outputId": "c4a45895-ee27-4b2d-f41f-4be39c4b56ab"
      },
      "source": [
        "np.sqrt(a)"
      ],
      "execution_count": 99,
      "outputs": [
        {
          "output_type": "stream",
          "text": [
            "/usr/local/lib/python3.6/dist-packages/ipykernel_launcher.py:1: RuntimeWarning: invalid value encountered in sqrt\n",
            "  \"\"\"Entry point for launching an IPython kernel.\n"
          ],
          "name": "stderr"
        },
        {
          "output_type": "execute_result",
          "data": {
            "text/plain": [
              "array([[       nan,        nan, 0.81748294],\n",
              "       [1.00408258,        nan, 0.48982239],\n",
              "       [       nan, 0.43078963,        nan],\n",
              "       [       nan, 0.51803984,        nan],\n",
              "       [1.44017641, 1.40240987, 0.34710528]])"
            ]
          },
          "metadata": {
            "tags": []
          },
          "execution_count": 99
        }
      ]
    },
    {
      "cell_type": "code",
      "metadata": {
        "id": "1Yq3NpNLtH9Q",
        "colab_type": "code",
        "colab": {
          "base_uri": "https://localhost:8080/",
          "height": 105
        },
        "outputId": "1b520812-68ec-463a-de55-6da4fd3aebd8"
      },
      "source": [
        "np.square(a)"
      ],
      "execution_count": 100,
      "outputs": [
        {
          "output_type": "execute_result",
          "data": {
            "text/plain": [
              "array([[5.94966051e-02, 2.39680044e-01, 4.46595953e-01],\n",
              "       [1.01643059e+00, 3.16999949e-02, 5.75644716e-02],\n",
              "       [1.27823100e-03, 3.44398283e-02, 2.23265818e-01],\n",
              "       [1.60177908e+00, 7.20199239e-02, 7.41816139e-01],\n",
              "       [4.30192438e+00, 3.86811909e+00, 1.45159313e-02]])"
            ]
          },
          "metadata": {
            "tags": []
          },
          "execution_count": 100
        }
      ]
    },
    {
      "cell_type": "code",
      "metadata": {
        "id": "PG0fgH0gtLrm",
        "colab_type": "code",
        "colab": {
          "base_uri": "https://localhost:8080/",
          "height": 105
        },
        "outputId": "e0d8a2b2-9fe2-4579-8da0-c4dba156f493"
      },
      "source": [
        "np.exp(a)"
      ],
      "execution_count": 101,
      "outputs": [
        {
          "output_type": "execute_result",
          "data": {
            "text/plain": [
              "array([[0.7835509 , 0.61288909, 1.9508757 ],\n",
              "       [2.74061357, 0.83690483, 1.27115504],\n",
              "       [0.96487921, 1.20391616, 0.6234354 ],\n",
              "       [0.28206602, 1.30782478, 0.42261762],\n",
              "       [7.957446  , 7.14743419, 1.12804052]])"
            ]
          },
          "metadata": {
            "tags": []
          },
          "execution_count": 101
        }
      ]
    },
    {
      "cell_type": "code",
      "metadata": {
        "id": "jHLuIw3ttQSw",
        "colab_type": "code",
        "colab": {
          "base_uri": "https://localhost:8080/",
          "height": 160
        },
        "outputId": "62f2b02c-1431-427d-b28b-aa2ec58fb816"
      },
      "source": [
        "np.log(a)"
      ],
      "execution_count": 102,
      "outputs": [
        {
          "output_type": "stream",
          "text": [
            "/usr/local/lib/python3.6/dist-packages/ipykernel_launcher.py:1: RuntimeWarning: invalid value encountered in log\n",
            "  \"\"\"Entry point for launching an IPython kernel.\n"
          ],
          "name": "stderr"
        },
        {
          "output_type": "execute_result",
          "data": {
            "text/plain": [
              "array([[        nan,         nan, -0.4030505 ],\n",
              "       [ 0.00814854,         nan, -1.42742486],\n",
              "       [        nan, -1.68427079,         nan],\n",
              "       [        nan, -1.31540624,         nan],\n",
              "       [ 0.72953123,  0.67638418, -2.11625426]])"
            ]
          },
          "metadata": {
            "tags": []
          },
          "execution_count": 102
        }
      ]
    },
    {
      "cell_type": "code",
      "metadata": {
        "id": "ZMC5G_lntTLS",
        "colab_type": "code",
        "colab": {
          "base_uri": "https://localhost:8080/",
          "height": 160
        },
        "outputId": "b2b5e4ef-7c75-4e59-fb76-164edf147950"
      },
      "source": [
        "np.log10(a)"
      ],
      "execution_count": 103,
      "outputs": [
        {
          "output_type": "stream",
          "text": [
            "/usr/local/lib/python3.6/dist-packages/ipykernel_launcher.py:1: RuntimeWarning: invalid value encountered in log10\n",
            "  \"\"\"Entry point for launching an IPython kernel.\n"
          ],
          "name": "stderr"
        },
        {
          "output_type": "execute_result",
          "data": {
            "text/plain": [
              "array([[        nan,         nan, -0.17504261],\n",
              "       [ 0.00353886,         nan, -0.61992274],\n",
              "       [        nan, -0.73146951,         nan],\n",
              "       [        nan, -0.57127367,         nan],\n",
              "       [ 0.31683139,  0.29374992, -0.91907755]])"
            ]
          },
          "metadata": {
            "tags": []
          },
          "execution_count": 103
        }
      ]
    },
    {
      "cell_type": "code",
      "metadata": {
        "id": "Ute6ThP4tWkJ",
        "colab_type": "code",
        "colab": {
          "base_uri": "https://localhost:8080/",
          "height": 160
        },
        "outputId": "c9189a0c-801a-4f9c-bb34-de29da6e4423"
      },
      "source": [
        "np.log2(a)"
      ],
      "execution_count": 104,
      "outputs": [
        {
          "output_type": "stream",
          "text": [
            "/usr/local/lib/python3.6/dist-packages/ipykernel_launcher.py:1: RuntimeWarning: invalid value encountered in log2\n",
            "  \"\"\"Entry point for launching an IPython kernel.\n"
          ],
          "name": "stderr"
        },
        {
          "output_type": "execute_result",
          "data": {
            "text/plain": [
              "array([[        nan,         nan, -0.58147896],\n",
              "       [ 0.01175585,         nan, -2.05933876],\n",
              "       [        nan, -2.42988912,         nan],\n",
              "       [        nan, -1.89773006,         nan],\n",
              "       [ 1.05249108,  0.97581611, -3.05310953]])"
            ]
          },
          "metadata": {
            "tags": []
          },
          "execution_count": 104
        }
      ]
    },
    {
      "cell_type": "code",
      "metadata": {
        "id": "R6XHmpLHtaeO",
        "colab_type": "code",
        "colab": {
          "base_uri": "https://localhost:8080/",
          "height": 105
        },
        "outputId": "3b79925e-06dc-4004-f577-a699083401c9"
      },
      "source": [
        "np.sign(a)"
      ],
      "execution_count": 105,
      "outputs": [
        {
          "output_type": "execute_result",
          "data": {
            "text/plain": [
              "array([[-1., -1.,  1.],\n",
              "       [ 1., -1.,  1.],\n",
              "       [-1.,  1., -1.],\n",
              "       [-1.,  1., -1.],\n",
              "       [ 1.,  1.,  1.]])"
            ]
          },
          "metadata": {
            "tags": []
          },
          "execution_count": 105
        }
      ]
    },
    {
      "cell_type": "code",
      "metadata": {
        "id": "ycFyHO-dtc7X",
        "colab_type": "code",
        "colab": {
          "base_uri": "https://localhost:8080/",
          "height": 105
        },
        "outputId": "3499f507-38c3-4517-93b2-1755e283c3d3"
      },
      "source": [
        "np.ceil(a)"
      ],
      "execution_count": 106,
      "outputs": [
        {
          "output_type": "execute_result",
          "data": {
            "text/plain": [
              "array([[-0., -0.,  1.],\n",
              "       [ 2., -0.,  1.],\n",
              "       [-0.,  1., -0.],\n",
              "       [-1.,  1., -0.],\n",
              "       [ 3.,  2.,  1.]])"
            ]
          },
          "metadata": {
            "tags": []
          },
          "execution_count": 106
        }
      ]
    },
    {
      "cell_type": "code",
      "metadata": {
        "id": "SsKKv9b2tkt_",
        "colab_type": "code",
        "colab": {
          "base_uri": "https://localhost:8080/",
          "height": 105
        },
        "outputId": "d7faaf65-8d19-491d-fac9-82ef13941a76"
      },
      "source": [
        "np.floor(a)"
      ],
      "execution_count": 107,
      "outputs": [
        {
          "output_type": "execute_result",
          "data": {
            "text/plain": [
              "array([[-1., -1.,  0.],\n",
              "       [ 1., -1.,  0.],\n",
              "       [-1.,  0., -1.],\n",
              "       [-2.,  0., -1.],\n",
              "       [ 2.,  1.,  0.]])"
            ]
          },
          "metadata": {
            "tags": []
          },
          "execution_count": 107
        }
      ]
    },
    {
      "cell_type": "code",
      "metadata": {
        "id": "O6w6SpcTtsdi",
        "colab_type": "code",
        "colab": {
          "base_uri": "https://localhost:8080/",
          "height": 105
        },
        "outputId": "4f61de09-3150-4b23-bcef-61e36e491d2a"
      },
      "source": [
        "np.isnan(a)"
      ],
      "execution_count": 108,
      "outputs": [
        {
          "output_type": "execute_result",
          "data": {
            "text/plain": [
              "array([[False, False, False],\n",
              "       [False, False, False],\n",
              "       [False, False, False],\n",
              "       [False, False, False],\n",
              "       [False, False, False]])"
            ]
          },
          "metadata": {
            "tags": []
          },
          "execution_count": 108
        }
      ]
    },
    {
      "cell_type": "code",
      "metadata": {
        "id": "d4iWtfXFtwVS",
        "colab_type": "code",
        "colab": {
          "base_uri": "https://localhost:8080/",
          "height": 160
        },
        "outputId": "4b7b9363-e8d0-4bde-bd78-fb0ae6c73603"
      },
      "source": [
        "np.isnan(np.log(a))"
      ],
      "execution_count": 109,
      "outputs": [
        {
          "output_type": "stream",
          "text": [
            "/usr/local/lib/python3.6/dist-packages/ipykernel_launcher.py:1: RuntimeWarning: invalid value encountered in log\n",
            "  \"\"\"Entry point for launching an IPython kernel.\n"
          ],
          "name": "stderr"
        },
        {
          "output_type": "execute_result",
          "data": {
            "text/plain": [
              "array([[ True,  True, False],\n",
              "       [False,  True, False],\n",
              "       [ True, False,  True],\n",
              "       [ True, False,  True],\n",
              "       [False, False, False]])"
            ]
          },
          "metadata": {
            "tags": []
          },
          "execution_count": 109
        }
      ]
    },
    {
      "cell_type": "code",
      "metadata": {
        "id": "JAurhT2xt2wH",
        "colab_type": "code",
        "colab": {
          "base_uri": "https://localhost:8080/",
          "height": 105
        },
        "outputId": "e3c70933-e5bb-4735-e9eb-af46d6e10499"
      },
      "source": [
        "np.isinf(a)"
      ],
      "execution_count": 110,
      "outputs": [
        {
          "output_type": "execute_result",
          "data": {
            "text/plain": [
              "array([[False, False, False],\n",
              "       [False, False, False],\n",
              "       [False, False, False],\n",
              "       [False, False, False],\n",
              "       [False, False, False]])"
            ]
          },
          "metadata": {
            "tags": []
          },
          "execution_count": 110
        }
      ]
    },
    {
      "cell_type": "code",
      "metadata": {
        "id": "or7Vx6QIt7OA",
        "colab_type": "code",
        "colab": {
          "base_uri": "https://localhost:8080/",
          "height": 105
        },
        "outputId": "83ba6861-9fa4-48c0-cddc-8cb79d1877b0"
      },
      "source": [
        "np.cos(a)"
      ],
      "execution_count": 111,
      "outputs": [
        {
          "output_type": "execute_result",
          "data": {
            "text/plain": [
              "array([[ 0.9703989 ,  0.88253454,  0.78488962],\n",
              "       [ 0.53339953,  0.98419183,  0.97135557],\n",
              "       [ 0.99936095,  0.98282945,  0.89042868],\n",
              "       [ 0.30046697,  0.96420564,  0.65146121],\n",
              "       [-0.48232925, -0.38569142,  0.99275081]])"
            ]
          },
          "metadata": {
            "tags": []
          },
          "execution_count": 111
        }
      ]
    },
    {
      "cell_type": "code",
      "metadata": {
        "id": "cr2WjpGbt9ek",
        "colab_type": "code",
        "colab": {
          "base_uri": "https://localhost:8080/",
          "height": 105
        },
        "outputId": "07458862-9de4-4b60-a94d-887b56041b4e"
      },
      "source": [
        "np.tanh(a)"
      ],
      "execution_count": 112,
      "outputs": [
        {
          "output_type": "execute_result",
          "data": {
            "text/plain": [
              "array([[-0.23919422, -0.4538761 ,  0.58384624],\n",
              "       [ 0.76500896, -0.17618714,  0.23542582],\n",
              "       [-0.03573713,  0.18347821, -0.44022522],\n",
              "       [-0.85260449,  0.26210307, -0.69692043],\n",
              "       [ 0.96890593,  0.96160183,  0.11990247]])"
            ]
          },
          "metadata": {
            "tags": []
          },
          "execution_count": 112
        }
      ]
    },
    {
      "cell_type": "code",
      "metadata": {
        "id": "yrhIb165t_cX",
        "colab_type": "code",
        "colab": {
          "base_uri": "https://localhost:8080/",
          "height": 105
        },
        "outputId": "8c1e1184-a2d8-42d3-ab1b-a88ee4b8ea16"
      },
      "source": [
        "b=np.random.randn(5,3)\n",
        "print(b)"
      ],
      "execution_count": 114,
      "outputs": [
        {
          "output_type": "stream",
          "text": [
            "[[ 0.00900124 -0.80350477  1.39400653]\n",
            " [-1.56304709 -0.00321759  0.55201966]\n",
            " [ 0.11200229  0.84034338  1.5625656 ]\n",
            " [ 0.26934367  0.25825375  0.34613173]\n",
            " [ 0.14966122 -0.33997195 -1.11190808]]\n"
          ],
          "name": "stdout"
        }
      ]
    },
    {
      "cell_type": "code",
      "metadata": {
        "id": "QODqUc10uHHy",
        "colab_type": "code",
        "colab": {
          "base_uri": "https://localhost:8080/",
          "height": 105
        },
        "outputId": "c73cf2d6-011f-42b1-8737-444da5615c9b"
      },
      "source": [
        "np.multiply(a,b)"
      ],
      "execution_count": 115,
      "outputs": [
        {
          "output_type": "execute_result",
          "data": {
            "text/plain": [
              "array([[-2.19557671e-03,  3.93372864e-01,  9.31584382e-01],\n",
              "       [-1.57583567e+00,  5.72875988e-04,  1.32443853e-01],\n",
              "       [-4.00434583e-03,  1.55950679e-01, -7.38328068e-01],\n",
              "       [-3.40885145e-01,  6.93063413e-02, -2.98118931e-01],\n",
              "       [ 3.10413547e-01, -6.68641006e-01, -1.33964997e-01]])"
            ]
          },
          "metadata": {
            "tags": []
          },
          "execution_count": 115
        }
      ]
    },
    {
      "cell_type": "code",
      "metadata": {
        "id": "Izrts5V1uXgk",
        "colab_type": "code",
        "colab": {
          "base_uri": "https://localhost:8080/",
          "height": 105
        },
        "outputId": "bf24bf6e-684b-465b-fcb6-501ed786d26b"
      },
      "source": [
        "np.maximum(a,b)"
      ],
      "execution_count": 116,
      "outputs": [
        {
          "output_type": "execute_result",
          "data": {
            "text/plain": [
              "array([[ 0.00900124, -0.48957129,  1.39400653],\n",
              "       [ 1.00818183, -0.00321759,  0.55201966],\n",
              "       [ 0.11200229,  0.84034338,  1.5625656 ],\n",
              "       [ 0.26934367,  0.26836528,  0.34613173],\n",
              "       [ 2.07410809,  1.96675344,  0.12048208]])"
            ]
          },
          "metadata": {
            "tags": []
          },
          "execution_count": 116
        }
      ]
    },
    {
      "cell_type": "code",
      "metadata": {
        "id": "Qtu8bmphuag1",
        "colab_type": "code",
        "colab": {
          "base_uri": "https://localhost:8080/",
          "height": 34
        },
        "outputId": "e31ad878-82c0-4960-c8a3-ac30a45a6730"
      },
      "source": [
        "np.sum(a)"
      ],
      "execution_count": 117,
      "outputs": [
        {
          "output_type": "execute_result",
          "data": {
            "text/plain": [
              "2.984975195930688"
            ]
          },
          "metadata": {
            "tags": []
          },
          "execution_count": 117
        }
      ]
    },
    {
      "cell_type": "code",
      "metadata": {
        "id": "5Jc-UqlqugzU",
        "colab_type": "code",
        "colab": {
          "base_uri": "https://localhost:8080/",
          "height": 34
        },
        "outputId": "4af75cf8-86ad-4db3-c905-3b60c4b21754"
      },
      "source": [
        "np.sum(a,axis=1)"
      ],
      "execution_count": 118,
      "outputs": [
        {
          "output_type": "execute_result",
          "data": {
            "text/plain": [
              "array([-0.06521219,  1.07006287, -0.32268277, -1.85853632,  4.16134361])"
            ]
          },
          "metadata": {
            "tags": []
          },
          "execution_count": 118
        }
      ]
    },
    {
      "cell_type": "code",
      "metadata": {
        "id": "WrlGGkV5ulMT",
        "colab_type": "code",
        "colab": {
          "base_uri": "https://localhost:8080/",
          "height": 34
        },
        "outputId": "cb022b1c-b8e5-4dfd-d3df-238ef3fe38ec"
      },
      "source": [
        "np.sum(a,axis=0)"
      ],
      "execution_count": 120,
      "outputs": [
        {
          "output_type": "execute_result",
          "data": {
            "text/plain": [
              "array([ 1.53700419,  1.75308222, -0.30511121])"
            ]
          },
          "metadata": {
            "tags": []
          },
          "execution_count": 120
        }
      ]
    },
    {
      "cell_type": "code",
      "metadata": {
        "id": "eCSXRt3eupqY",
        "colab_type": "code",
        "colab": {
          "base_uri": "https://localhost:8080/",
          "height": 34
        },
        "outputId": "381d5bc8-b04c-45a6-bfb3-c125df941930"
      },
      "source": [
        "np.mean(a)"
      ],
      "execution_count": 121,
      "outputs": [
        {
          "output_type": "execute_result",
          "data": {
            "text/plain": [
              "0.1989983463953792"
            ]
          },
          "metadata": {
            "tags": []
          },
          "execution_count": 121
        }
      ]
    },
    {
      "cell_type": "code",
      "metadata": {
        "id": "7HerCBDGuvR8",
        "colab_type": "code",
        "colab": {
          "base_uri": "https://localhost:8080/",
          "height": 34
        },
        "outputId": "96bda1a7-ef0d-409d-a90d-6968790147e3"
      },
      "source": [
        "np.mean(a,axis=0)"
      ],
      "execution_count": 122,
      "outputs": [
        {
          "output_type": "execute_result",
          "data": {
            "text/plain": [
              "array([ 0.30740084,  0.35061644, -0.06102224])"
            ]
          },
          "metadata": {
            "tags": []
          },
          "execution_count": 122
        }
      ]
    },
    {
      "cell_type": "code",
      "metadata": {
        "id": "1uC7TP04u0HE",
        "colab_type": "code",
        "colab": {
          "base_uri": "https://localhost:8080/",
          "height": 34
        },
        "outputId": "312b2a5e-a50a-4dc2-9845-c5696a954c39"
      },
      "source": [
        "np.std(a)"
      ],
      "execution_count": 123,
      "outputs": [
        {
          "output_type": "execute_result",
          "data": {
            "text/plain": [
              "0.8987628889215779"
            ]
          },
          "metadata": {
            "tags": []
          },
          "execution_count": 123
        }
      ]
    },
    {
      "cell_type": "code",
      "metadata": {
        "id": "BuCfJlT6u3hX",
        "colab_type": "code",
        "colab": {
          "base_uri": "https://localhost:8080/",
          "height": 34
        },
        "outputId": "a1d24b57-2aba-4a65-82b3-c8ec664bf855"
      },
      "source": [
        "np.min(a,axis=1)"
      ],
      "execution_count": 124,
      "outputs": [
        {
          "output_type": "execute_result",
          "data": {
            "text/plain": [
              "array([-0.48957129, -0.17804492, -0.47251012, -1.26561411,  0.12048208])"
            ]
          },
          "metadata": {
            "tags": []
          },
          "execution_count": 124
        }
      ]
    },
    {
      "cell_type": "code",
      "metadata": {
        "id": "2Ho54aYxu67l",
        "colab_type": "code",
        "colab": {
          "base_uri": "https://localhost:8080/",
          "height": 34
        },
        "outputId": "60983287-932d-4e72-be0a-eaf9e3b589f9"
      },
      "source": [
        "np.argmin(a)"
      ],
      "execution_count": 125,
      "outputs": [
        {
          "output_type": "execute_result",
          "data": {
            "text/plain": [
              "9"
            ]
          },
          "metadata": {
            "tags": []
          },
          "execution_count": 125
        }
      ]
    },
    {
      "cell_type": "code",
      "metadata": {
        "id": "RzIFF9AGu-jF",
        "colab_type": "code",
        "colab": {
          "base_uri": "https://localhost:8080/",
          "height": 105
        },
        "outputId": "88ddd629-38bd-4980-a564-5cfac98bbc3d"
      },
      "source": [
        "a"
      ],
      "execution_count": 126,
      "outputs": [
        {
          "output_type": "execute_result",
          "data": {
            "text/plain": [
              "array([[-0.24391926, -0.48957129,  0.66827835],\n",
              "       [ 1.00818183, -0.17804492,  0.23992597],\n",
              "       [-0.03575236,  0.18557971, -0.47251012],\n",
              "       [-1.26561411,  0.26836528, -0.86128749],\n",
              "       [ 2.07410809,  1.96675344,  0.12048208]])"
            ]
          },
          "metadata": {
            "tags": []
          },
          "execution_count": 126
        }
      ]
    },
    {
      "cell_type": "code",
      "metadata": {
        "id": "ENDq0hZVvJOx",
        "colab_type": "code",
        "colab": {
          "base_uri": "https://localhost:8080/",
          "height": 34
        },
        "outputId": "9f7c395b-11ac-425e-aca5-4c7845abdd14"
      },
      "source": [
        "np.argmax(a,axis=0)"
      ],
      "execution_count": 127,
      "outputs": [
        {
          "output_type": "execute_result",
          "data": {
            "text/plain": [
              "array([4, 4, 0])"
            ]
          },
          "metadata": {
            "tags": []
          },
          "execution_count": 127
        }
      ]
    },
    {
      "cell_type": "code",
      "metadata": {
        "id": "yxqySIelvWG-",
        "colab_type": "code",
        "colab": {
          "base_uri": "https://localhost:8080/",
          "height": 70
        },
        "outputId": "11d301f9-7f4d-42fa-d898-8928901011f0"
      },
      "source": [
        "np.cumsum(a)"
      ],
      "execution_count": 128,
      "outputs": [
        {
          "output_type": "execute_result",
          "data": {
            "text/plain": [
              "array([-0.24391926, -0.73349054, -0.06521219,  0.94296963,  0.76492471,\n",
              "        1.00485068,  0.96909832,  1.15467803,  0.68216791, -0.58344621,\n",
              "       -0.31508093, -1.17636841,  0.89773968,  2.86449312,  2.9849752 ])"
            ]
          },
          "metadata": {
            "tags": []
          },
          "execution_count": 128
        }
      ]
    },
    {
      "cell_type": "code",
      "metadata": {
        "id": "I4aF11dbvgIt",
        "colab_type": "code",
        "colab": {
          "base_uri": "https://localhost:8080/",
          "height": 87
        },
        "outputId": "e1bd1629-b0a8-4c58-9d48-1250716f2742"
      },
      "source": [
        "np.cumprod(a)"
      ],
      "execution_count": 129,
      "outputs": [
        {
          "output_type": "execute_result",
          "data": {
            "text/plain": [
              "array([-2.43919259e-01,  1.19415865e-01,  7.98030374e-02,  8.04559720e-02,\n",
              "       -1.43247774e-02, -3.43688613e-03,  1.22876778e-04,  2.28034367e-05,\n",
              "       -1.07748547e-05,  1.36368082e-05,  3.65964586e-06, -3.15200719e-06,\n",
              "       -6.53760363e-06, -1.28578544e-05, -1.54914103e-06])"
            ]
          },
          "metadata": {
            "tags": []
          },
          "execution_count": 129
        }
      ]
    },
    {
      "cell_type": "code",
      "metadata": {
        "id": "lNMNys7pvqUp",
        "colab_type": "code",
        "colab": {
          "base_uri": "https://localhost:8080/",
          "height": 105
        },
        "outputId": "60f4a86a-9f64-4126-e611-d501aaf5dfe2"
      },
      "source": [
        "np.cumsum(a,axis=1)"
      ],
      "execution_count": 130,
      "outputs": [
        {
          "output_type": "execute_result",
          "data": {
            "text/plain": [
              "array([[-0.24391926, -0.73349054, -0.06521219],\n",
              "       [ 1.00818183,  0.8301369 ,  1.07006287],\n",
              "       [-0.03575236,  0.14982735, -0.32268277],\n",
              "       [-1.26561411, -0.99724883, -1.85853632],\n",
              "       [ 2.07410809,  4.04086153,  4.16134361]])"
            ]
          },
          "metadata": {
            "tags": []
          },
          "execution_count": 130
        }
      ]
    },
    {
      "cell_type": "code",
      "metadata": {
        "id": "uEQBjGCTvvKN",
        "colab_type": "code",
        "colab": {
          "base_uri": "https://localhost:8080/",
          "height": 105
        },
        "outputId": "7e945187-d73c-4d4e-d138-ca11c1b9534d"
      },
      "source": [
        "np.cumprod(a,axis=1)"
      ],
      "execution_count": 132,
      "outputs": [
        {
          "output_type": "execute_result",
          "data": {
            "text/plain": [
              "array([[-2.43919259e-01,  1.19415865e-01,  7.98030374e-02],\n",
              "       [ 1.00818183e+00, -1.79501657e-01, -4.30671093e-02],\n",
              "       [-3.57523565e-02, -6.63491191e-03,  3.13506305e-03],\n",
              "       [-1.26561411e+00, -3.39646887e-01,  2.92533614e-01],\n",
              "       [ 2.07410809e+00,  4.07925922e+00,  4.91477631e-01]])"
            ]
          },
          "metadata": {
            "tags": []
          },
          "execution_count": 132
        }
      ]
    },
    {
      "cell_type": "code",
      "metadata": {
        "id": "pduGt3v6vx0v",
        "colab_type": "code",
        "colab": {
          "base_uri": "https://localhost:8080/",
          "height": 105
        },
        "outputId": "1fa8aeef-3020-4835-aec2-a1aa587599e0"
      },
      "source": [
        "a"
      ],
      "execution_count": 133,
      "outputs": [
        {
          "output_type": "execute_result",
          "data": {
            "text/plain": [
              "array([[-0.24391926, -0.48957129,  0.66827835],\n",
              "       [ 1.00818183, -0.17804492,  0.23992597],\n",
              "       [-0.03575236,  0.18557971, -0.47251012],\n",
              "       [-1.26561411,  0.26836528, -0.86128749],\n",
              "       [ 2.07410809,  1.96675344,  0.12048208]])"
            ]
          },
          "metadata": {
            "tags": []
          },
          "execution_count": 133
        }
      ]
    },
    {
      "cell_type": "code",
      "metadata": {
        "id": "d1JFgBdiv7JN",
        "colab_type": "code",
        "colab": {
          "base_uri": "https://localhost:8080/",
          "height": 105
        },
        "outputId": "2d055942-16dd-4fbf-9f50-7c3306ed5afd"
      },
      "source": [
        "np.sort(a)"
      ],
      "execution_count": 134,
      "outputs": [
        {
          "output_type": "execute_result",
          "data": {
            "text/plain": [
              "array([[-0.48957129, -0.24391926,  0.66827835],\n",
              "       [-0.17804492,  0.23992597,  1.00818183],\n",
              "       [-0.47251012, -0.03575236,  0.18557971],\n",
              "       [-1.26561411, -0.86128749,  0.26836528],\n",
              "       [ 0.12048208,  1.96675344,  2.07410809]])"
            ]
          },
          "metadata": {
            "tags": []
          },
          "execution_count": 134
        }
      ]
    },
    {
      "cell_type": "code",
      "metadata": {
        "id": "FOae1JXjv9HD",
        "colab_type": "code",
        "colab": {
          "base_uri": "https://localhost:8080/",
          "height": 105
        },
        "outputId": "ab0107f9-be98-4145-9b59-ca23adc6de77"
      },
      "source": [
        "np.sort(a)[::-1]"
      ],
      "execution_count": 141,
      "outputs": [
        {
          "output_type": "execute_result",
          "data": {
            "text/plain": [
              "array([[ 0.12048208,  1.96675344,  2.07410809],\n",
              "       [-1.26561411, -0.86128749,  0.26836528],\n",
              "       [-0.47251012, -0.03575236,  0.18557971],\n",
              "       [-0.17804492,  0.23992597,  1.00818183],\n",
              "       [-0.48957129, -0.24391926,  0.66827835]])"
            ]
          },
          "metadata": {
            "tags": []
          },
          "execution_count": 141
        }
      ]
    },
    {
      "cell_type": "code",
      "metadata": {
        "id": "egrHA_IEwCmG",
        "colab_type": "code",
        "colab": {
          "base_uri": "https://localhost:8080/",
          "height": 105
        },
        "outputId": "ffb3557d-7a94-4deb-b10a-7fa174b805e2"
      },
      "source": [
        "np.sort(a,axis=0)"
      ],
      "execution_count": 142,
      "outputs": [
        {
          "output_type": "execute_result",
          "data": {
            "text/plain": [
              "array([[-1.26561411, -0.48957129, -0.86128749],\n",
              "       [-0.24391926, -0.17804492, -0.47251012],\n",
              "       [-0.03575236,  0.18557971,  0.12048208],\n",
              "       [ 1.00818183,  0.26836528,  0.23992597],\n",
              "       [ 2.07410809,  1.96675344,  0.66827835]])"
            ]
          },
          "metadata": {
            "tags": []
          },
          "execution_count": 142
        }
      ]
    },
    {
      "cell_type": "code",
      "metadata": {
        "id": "mRgpef5TwiaC",
        "colab_type": "code",
        "colab": {}
      },
      "source": [
        ""
      ],
      "execution_count": null,
      "outputs": []
    }
  ]
}